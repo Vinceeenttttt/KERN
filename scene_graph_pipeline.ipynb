{
  "nbformat": 4,
  "nbformat_minor": 0,
  "metadata": {
    "colab": {
      "name": "scene_graph_pipeline.ipynb",
      "provenance": [],
      "collapsed_sections": []
    },
    "kernelspec": {
      "name": "python3",
      "display_name": "Python 3"
    },
    "accelerator": "GPU"
  },
  "cells": [
    {
      "cell_type": "code",
      "metadata": {
        "id": "j2FR9HbsOG63",
        "colab_type": "code",
        "colab": {}
      },
      "source": [
        "#Download the Charades dataset\n",
        "!wget http://ai2-website.s3.amazonaws.com/data/Charades_v1_480.zip\n",
        "\n",
        "#Unzip the file\n",
        "!unzip /content/Charades_v1_480.zip"
      ],
      "execution_count": null,
      "outputs": []
    },
    {
      "cell_type": "code",
      "metadata": {
        "id": "8oDULEO-O2GT",
        "colab_type": "code",
        "colab": {}
      },
      "source": [
        "#Video (named F4BJJ) to image; starting at 7.70s and lasting 5.00s; 1 frame/second frame rate\n",
        "!ffmpeg -ss 7.70 -t 5.00 -accurate_seek -i F4BJJ.mp4 -r 1 {'/content/F4BJJ/'}%d.jpg\n",
        "\n",
        "#Video to keyframe\n",
        "#!ffmpeg -i F4BJJ.mp4 -vf \"select=eq(pict_type\\,I)\" -vsync vfr {'/content/F4BJJ/'}%d.jpg -hide_banner -loglevel quiet"
      ],
      "execution_count": null,
      "outputs": []
    },
    {
      "cell_type": "code",
      "metadata": {
        "id": "8Hz5Ru49kfTA",
        "colab_type": "code",
        "colab": {
          "base_uri": "https://localhost:8080/",
          "height": 372
        },
        "outputId": "42e1535f-8a62-4379-84a9-9aa5f26561df"
      },
      "source": [
        "#Check the GPU version; Colab randomly gives Nvidia K80, T4, P4 and P100\n",
        "#If you get the error 'RuntimeError: CUDNN_STATUS_EXECUTION_FAILED' when you run the KERN model\n",
        "#Create a new Colab file for another GPU version to avoid the error; T4 may fail to run\n",
        "#This is due to CUDA 9.0 may be incompatible with T4\n",
        "!nvidia-smi"
      ],
      "execution_count": null,
      "outputs": [
        {
          "output_type": "stream",
          "text": [
            "Tue Jun 16 16:12:32 2020       \n",
            "+-----------------------------------------------------------------------------+\n",
            "| NVIDIA-SMI 450.36.06    Driver Version: 418.67       CUDA Version: 10.1     |\n",
            "|-------------------------------+----------------------+----------------------+\n",
            "| GPU  Name        Persistence-M| Bus-Id        Disp.A | Volatile Uncorr. ECC |\n",
            "| Fan  Temp  Perf  Pwr:Usage/Cap|         Memory-Usage | GPU-Util  Compute M. |\n",
            "|                               |                      |               MIG M. |\n",
            "|===============================+======================+======================|\n",
            "|   0  Tesla K80           Off  | 00000000:00:04.0 Off |                    0 |\n",
            "| N/A   33C    P8    28W / 149W |      0MiB / 11441MiB |      0%      Default |\n",
            "|                               |                      |                 ERR! |\n",
            "+-------------------------------+----------------------+----------------------+\n",
            "                                                                               \n",
            "+-----------------------------------------------------------------------------+\n",
            "| Processes:                                                                  |\n",
            "|  GPU   GI   CI        PID   Type   Process name                  GPU Memory |\n",
            "|        ID   ID                                                   Usage      |\n",
            "|=============================================================================|\n",
            "|  No running processes found                                                 |\n",
            "+-----------------------------------------------------------------------------+\n"
          ],
          "name": "stdout"
        }
      ]
    },
    {
      "cell_type": "code",
      "metadata": {
        "id": "FO9NYY3UMVR1",
        "colab_type": "code",
        "colab": {}
      },
      "source": [
        "#Remeber to check the file size; Colab sometimes may fail to download files completely\n",
        "#Download pretrained detector checkpoint\n",
        "!wget --load-cookies /tmp/cookies.txt \"https://docs.google.com/uc?export=download&confirm=$(wget --quiet --save-cookies /tmp/cookies.txt --keep-session-cookies --no-check-certificate 'https://docs.google.com/uc?export=download&id=11zKRr2OF5oclFL47kjFYBOxScotQzArX' -O- | sed -rn 's/.*confirm=([0-9A-Za-z_]+).*/\\1\\n/p')&id=11zKRr2OF5oclFL47kjFYBOxScotQzArX\" -O vg-faster-rcnn.tar && rm -rf /tmp/cookies.txt\n",
        "\n",
        "#Download pretrained KERN model checkpoint\n",
        "!wget --load-cookies /tmp/cookies.txt \"https://docs.google.com/uc?export=download&confirm=$(wget --quiet --save-cookies /tmp/cookies.txt --keep-session-cookies --no-check-certificate 'https://docs.google.com/uc?export=download&id=1hAx4MpMiwofABQi9H6_Jb0Qjp016JX7T' -O- | sed -rn 's/.*confirm=([0-9A-Za-z_]+).*/\\1\\n/p')&id=1hAx4MpMiwofABQi9H6_Jb0Qjp016JX7T\" -O kern_sgdet.tar && rm -rf /tmp/cookies.txt"
      ],
      "execution_count": null,
      "outputs": []
    },
    {
      "cell_type": "code",
      "metadata": {
        "id": "XoHLBPl0NpY8",
        "colab_type": "code",
        "colab": {}
      },
      "source": [
        "#Clone our github repository\n",
        "!git clone https://github.com/Vinceeenttttt/KERN.git\n",
        "\n",
        "#Create a new folder and move the KERN model checkpoint\n",
        "!mkdir /content/KERN/Pipeline/checkpoint\n",
        "!mv /content/kern_sgdet.tar /content/KERN/Pipeline/checkpoint\n",
        "\n",
        "#Create a new folder and move the detector checkpoint\n",
        "!mkdir /content/KERN/Pipeline/checkpoint/vgdet\n",
        "!mv /content/vg-faster-rcnn.tar /content/KERN/Pipeline/checkpoint/vgdet"
      ],
      "execution_count": null,
      "outputs": []
    },
    {
      "cell_type": "code",
      "metadata": {
        "id": "IGa6PvEuPEVe",
        "colab_type": "code",
        "colab": {}
      },
      "source": [
        "#Download and install Anaconda which can help to install pytorch\n",
        "!wget -c https://repo.continuum.io/archive/Anaconda3-5.1.0-Linux-x86_64.sh\n",
        "!chmod +x Anaconda3-5.1.0-Linux-x86_64.sh\n",
        "!bash ./Anaconda3-5.1.0-Linux-x86_64.sh -b -f -p /usr/local\n",
        "\n",
        "#Download and install CUDA 9.0; Version used by KERN model\n",
        "!wget https://developer.nvidia.com/compute/cuda/9.0/Prod/local_installers/cuda-repo-ubuntu1604-9-0-local_9.0.176-1_amd64-deb\n",
        "!dpkg -i cuda-repo-ubuntu1604-9-0-local_9.0.176-1_amd64-deb\n",
        "!apt-key add /var/cuda-repo-9-0-local/7fa2af80.pub\n",
        "!apt-get update\n",
        "!apt-get install cuda=9.0.176-1"
      ],
      "execution_count": null,
      "outputs": []
    },
    {
      "cell_type": "code",
      "metadata": {
        "id": "Ye2FZEpWRCRC",
        "colab_type": "code",
        "colab": {
          "base_uri": "https://localhost:8080/",
          "height": 88
        },
        "outputId": "c0d97163-46e8-4bc4-d385-42cbb39ccef1"
      },
      "source": [
        "#Check the CUDA version; should be 9.0 instead of the newest used by Colab\n",
        "!nvcc --version"
      ],
      "execution_count": null,
      "outputs": [
        {
          "output_type": "stream",
          "text": [
            "nvcc: NVIDIA (R) Cuda compiler driver\n",
            "Copyright (c) 2005-2017 NVIDIA Corporation\n",
            "Built on Fri_Sep__1_21:08:03_CDT_2017\n",
            "Cuda compilation tools, release 9.0, V9.0.176\n"
          ],
          "name": "stdout"
        }
      ]
    },
    {
      "cell_type": "code",
      "metadata": {
        "id": "Un73UGwWRcan",
        "colab_type": "code",
        "colab": {}
      },
      "source": [
        "#Install pytorch 3, version used by KERN model\n",
        "!conda install pytorch=0.3.0 torchvision=0.2.0 cuda90 -c pytorch\n",
        "\n",
        "#Install libraries required by KERN model\n",
        "!pip install pycocotools\n",
        "!conda install dill\n",
        "!conda install tqdm"
      ],
      "execution_count": null,
      "outputs": []
    },
    {
      "cell_type": "code",
      "metadata": {
        "id": "wa8-QgnoTPbH",
        "colab_type": "code",
        "colab": {}
      },
      "source": [
        "#Install and update gcc/g++\n",
        "!sudo apt-get install gcc-6 g++-6 -y\n",
        "\n",
        "!sudo update-alternatives --install /usr/bin/g++ g++ /usr/bin/g++-6 10\n",
        "!sudo update-alternatives --install /usr/bin/gcc gcc /usr/bin/gcc-6 10"
      ],
      "execution_count": null,
      "outputs": []
    },
    {
      "cell_type": "code",
      "metadata": {
        "id": "hxW_vr4OTn8e",
        "colab_type": "code",
        "colab": {}
      },
      "source": [
        "CUDA_VISIBLE_DEVICES=0\n",
        "\n",
        "#Run the make file\n",
        "%cd /content/KERN/Pipeline\n",
        "!make"
      ],
      "execution_count": null,
      "outputs": []
    },
    {
      "cell_type": "code",
      "metadata": {
        "id": "7bwI1PwrT2_x",
        "colab_type": "code",
        "colab": {}
      },
      "source": [
        "#Create a folder for data\n",
        "!mkdir /content/KERN/Pipeline/data\n",
        "!mkdir /content/KERN/Pipeline/data/stanford_filtered\n",
        "\n",
        "#Download files for Visual Genome Dataset\n",
        "#These files only contain information for Visual Genome; include them will make KERN model smoothly\n",
        "!wget https://cvgl.stanford.edu/scene-graph/dataset/VG-SGG-dicts.json -P /content\n",
        "!mv /content/VG-SGG-dicts.json /content/KERN/Pipeline/data/stanford_filtered\n",
        "\n",
        "!wget https://cvgl.stanford.edu/scene-graph/VG/image_data.json -P /content\n",
        "!mv /content/image_data.json /content/KERN/Pipeline/data/stanford_filtered\n",
        "\n",
        "#Create a folder for image files we will use\n",
        "!mkdir /content/KERN/Pipeline/data/VG_100K"
      ],
      "execution_count": null,
      "outputs": []
    },
    {
      "cell_type": "code",
      "metadata": {
        "id": "YGM5ubLClqF3",
        "colab_type": "code",
        "colab": {}
      },
      "source": [
        "#If you get the error with numpy when running the KERN model\n",
        "#Run the folloing code to update the numpy package version\n",
        "#!conda install numpy"
      ],
      "execution_count": null,
      "outputs": []
    },
    {
      "cell_type": "code",
      "metadata": {
        "id": "OeBiDX1hVoZR",
        "colab_type": "code",
        "colab": {}
      },
      "source": [
        "#Run the KERN model in 'sgdet' mode\n",
        "!/content/KERN/scripts/eval_kern_sgdet.sh"
      ],
      "execution_count": null,
      "outputs": []
    },
    {
      "cell_type": "code",
      "metadata": {
        "id": "kHRZs8MMP87W",
        "colab_type": "code",
        "colab": {
          "base_uri": "https://localhost:8080/",
          "height": 1000
        },
        "outputId": "12f98973-ddc7-4406-f154-c9a47dbcaa55"
      },
      "source": [
        "#Result of KERN model is saved in the caches folder as a pickel file\n",
        "#Load the pickle file and save in data\n",
        "import pickle\n",
        "with open('/content/KERN/Pipeline/caches/kern_sgdet.pkl', 'rb') as f:\n",
        "    data = pickle.load(f)\n",
        "\n",
        "#Visualize the result\n",
        "data"
      ],
      "execution_count": null,
      "outputs": [
        {
          "output_type": "execute_result",
          "data": {
            "text/plain": [
              "[{'obj_scores': array([8.8765651e-01, 8.8820976e-01, 6.4461130e-01, 5.4517323e-01,\n",
              "         3.6605370e-01, 6.5438676e-01, 4.5007339e-01, 4.8734048e-01,\n",
              "         3.1819612e-01, 3.0267492e-01, 5.0546199e-01, 2.6032728e-01,\n",
              "         2.2865607e-01, 1.9720757e-01, 1.7216684e-01, 1.0767888e-01,\n",
              "         2.4717368e-01, 9.6307620e-02, 2.1394186e-03, 7.9349667e-02,\n",
              "         4.6841189e-02, 1.0554241e-01, 1.4544404e-01, 5.6758475e-02,\n",
              "         1.0946512e-01, 6.2522247e-02, 1.2722552e-01, 2.7419558e-02,\n",
              "         7.5420268e-02, 2.9548031e-01, 5.3908765e-02, 3.1585071e-02,\n",
              "         1.2097321e-02, 6.6080103e-03, 1.2918929e-02, 2.6912779e-02,\n",
              "         2.3021160e-02, 1.0911269e-02, 4.3552506e-04, 2.0764299e-02,\n",
              "         1.3004647e-03, 3.1412967e-02, 2.2053596e-02, 3.9625883e-02,\n",
              "         2.1191113e-02, 1.3177868e-02, 1.8990537e-02, 2.4225531e-02,\n",
              "         1.0849449e-02, 1.5366188e-02, 1.8613078e-03, 4.5619361e-02,\n",
              "         8.3798366e-03, 2.1536911e-02, 1.9120047e-02, 1.6453885e-03,\n",
              "         9.3567325e-03, 1.9882893e-02, 1.5862752e-02, 1.5891951e-02,\n",
              "         3.1594303e-02, 2.2433184e-02, 1.2449895e-02, 1.8320115e-02],\n",
              "        dtype=float32),\n",
              "  'pred_boxes': array([[ 622.4539   ,  334.99176  ,  842.89575  ,  499.67642  ],\n",
              "         [ 133.60904  ,  314.1839   ,  347.73596  ,  423.75906  ],\n",
              "         [  28.15976  ,  265.0554   ,  840.47327  ,  565.7723   ],\n",
              "         [ 693.2741   ,  338.6143   ,  822.358    ,  442.82486  ],\n",
              "         [ 420.40594  ,  389.44858  ,  522.0088   ,  505.95206  ],\n",
              "         [ 367.0301   ,   19.713419 ,  610.14557  ,  550.8755   ],\n",
              "         [ 492.79776  ,    0.       ,  642.7256   ,  101.693794 ],\n",
              "         [  55.29789  ,  271.70322  ,  255.16586  ,  390.3736   ],\n",
              "         [ 482.88824  ,    0.       ,  646.1672   ,  147.43385  ],\n",
              "         [ 823.2191   ,  368.09335  ,  907.24146  ,  468.05634  ],\n",
              "         [ 379.0422   ,  104.13982  ,  555.98376  ,  411.3522   ],\n",
              "         [   6.7010665,    0.       , 1014.58466  ,  574.27026  ],\n",
              "         [ 539.7208   ,  341.89856  ,  923.37445  ,  560.3079   ],\n",
              "         [   0.       ,  328.58475  ,  271.89615  ,  564.5244   ],\n",
              "         [  12.7842455,  334.24542  ,  227.61002  ,  516.5453   ],\n",
              "         [ 172.83632  ,  406.6844   ,  470.62296  ,  559.0025   ],\n",
              "         [ 921.00085  ,  390.37195  , 1020.03064  ,  537.45355  ],\n",
              "         [ 912.0382   ,  401.0321   , 1022.0139   ,  528.9717   ],\n",
              "         [ 329.94672  ,  340.93115  ,  873.2986   ,  566.7241   ],\n",
              "         [ 440.5392   ,  448.46747  ,  483.3455   ,  498.49872  ],\n",
              "         [ 593.68463  ,  288.07147  ,  647.91077  ,  353.78934  ],\n",
              "         [ 630.6742   ,  403.82956  ,  794.33795  ,  499.66824  ],\n",
              "         [ 359.9563   ,   47.830975 ,  579.20685  ,  549.27374  ],\n",
              "         [ 591.23346  ,  284.91928  ,  649.018    ,  383.81482  ],\n",
              "         [ 367.77844  ,  104.68643  ,  558.3213   ,  371.97122  ],\n",
              "         [ 646.5082   ,  263.1494   ,  751.23865  ,  403.0433   ],\n",
              "         [ 646.6994   ,  360.9172   ,  999.35486  ,  574.27026  ],\n",
              "         [ 492.99567  ,   41.154095 ,  608.4246   ,  143.50305  ],\n",
              "         [ 675.02576  ,  466.30997  ,  780.74084  ,  500.0042   ],\n",
              "         [ 371.0333   ,    4.4946156,  621.12115  ,  549.6664   ],\n",
              "         [ 370.905    ,  362.6847   ,  560.5716   ,  557.35876  ],\n",
              "         [ 730.5601   ,  489.51727  ,  940.3164   ,  571.3455   ],\n",
              "         [ 882.89886  ,  382.20087  , 1022.27026  ,  569.2821   ],\n",
              "         [ 584.636    ,  423.93933  ,  776.3566   ,  574.1799   ],\n",
              "         [   4.045186 ,  369.34265  ,  231.32968  ,  562.7304   ],\n",
              "         [ 629.72565  ,  233.28755  ,  762.1511   ,  398.6035   ],\n",
              "         [ 804.7197   ,  427.35822  ,  881.1249   ,  472.28168  ],\n",
              "         [   7.0043683,  365.24146  ,  222.21274  ,  558.9414   ],\n",
              "         [ 385.6961   ,  222.20793  ,  684.39404  ,  534.9046   ],\n",
              "         [ 591.8441   ,  418.11047  ,  826.8858   ,  568.74054  ],\n",
              "         [ 387.2621   ,  108.706566 ,  509.39172  ,  266.87344  ],\n",
              "         [ 362.2723   ,  233.95746  ,  443.03073  ,  340.4851   ],\n",
              "         [ 518.55334  ,   64.05928  ,  913.8909   ,  571.7241   ],\n",
              "         [ 546.8327   ,  297.79184  ,  649.7988   ,  391.04288  ],\n",
              "         [ 626.9687   ,  257.55362  ,  819.41486  ,  443.04636  ],\n",
              "         [ 801.0306   ,  365.29297  ,  906.42883  ,  474.3038   ],\n",
              "         [ 545.4647   ,  311.74847  ,  650.8041   ,  398.05765  ],\n",
              "         [ 400.9997   ,  316.0061   ,  510.14618  ,  482.08203  ],\n",
              "         [ 100.04368  ,   85.49116  ,  540.4392   ,  538.5568   ],\n",
              "         [ 560.37634  ,   49.991226 ,  618.0379   ,  122.601364 ],\n",
              "         [ 365.4702   ,  150.60881  ,  553.0908   ,  376.42535  ],\n",
              "         [  54.98179  ,  268.43488  ,  579.32294  ,  478.6506   ],\n",
              "         [ 375.28766  ,  263.61533  ,  537.47235  ,  491.41534  ],\n",
              "         [ 279.2514   ,  334.56943  ,  698.1363   ,  561.33905  ],\n",
              "         [ 641.1979   ,  498.8235   ,  774.5006   ,  570.2963   ],\n",
              "         [ 549.3638   ,  294.9796   ,  648.41644  ,  375.44873  ],\n",
              "         [ 360.64865  ,  263.7449   ,  416.96695  ,  318.3357   ],\n",
              "         [ 636.5365   ,  244.35532  ,  768.0259   ,  386.80258  ],\n",
              "         [ 423.6717   ,  150.02298  ,  562.70074  ,  496.7463   ],\n",
              "         [ 639.79144  ,  249.23564  ,  754.21027  ,  381.63715  ],\n",
              "         [ 367.34314  ,   98.994415 ,  533.0592   ,  343.95007  ],\n",
              "         [ 684.8554   ,  466.98892  ,  807.26154  ,  501.34543  ],\n",
              "         [ 161.17859  ,  356.06418  ,  531.4624   ,  541.89166  ],\n",
              "         [ 547.428    ,  349.30075  ,  633.7429   ,  387.99872  ]],\n",
              "        dtype=float32),\n",
              "  'pred_classes': array([ 72,  93,   9, 107,  58,  78,  57,  93,  61,  92, 111, 106,  36,\n",
              "           9,  93,   4, 112,   4,  32,  46,  93,  92,  91,  28,  66, 107,\n",
              "          78,  44,  92,  20,  87,  87,  28,  28,  96,  19,  92,   4,  93,\n",
              "         123,  60,  44,  78,  36, 123,  72, 126,   3,  20,  40,  87,  93,\n",
              "          58, 126,  74, 110,  84,  24,   3,  13,  57,  58,   9, 110]),\n",
              "  'pred_rel_inds': array([[ 1,  2],\n",
              "         [ 0,  2],\n",
              "         [ 7,  2],\n",
              "         ...,\n",
              "         [38, 40],\n",
              "         [18, 38],\n",
              "         [50, 55]]),\n",
              "  'rel_scores': array([[3.7397948e-01, 9.2707723e-02, 1.7007091e-04, ..., 5.2298372e-05,\n",
              "          2.4729366e-05, 1.0019109e-04],\n",
              "         [5.5608314e-01, 3.1685930e-02, 3.6335125e-05, ..., 1.8704506e-05,\n",
              "          1.5541993e-05, 6.5944114e-05],\n",
              "         [3.8976505e-01, 9.0604380e-02, 1.5935652e-04, ..., 4.6393081e-05,\n",
              "          2.1280610e-05, 1.0362676e-04],\n",
              "         ...,\n",
              "         [9.9950433e-01, 8.8945484e-07, 5.5621234e-07, ..., 5.0005463e-05,\n",
              "          1.5295038e-05, 9.6085176e-05],\n",
              "         [9.9960476e-01, 2.6331577e-06, 1.1730152e-06, ..., 1.6889384e-05,\n",
              "          4.8137813e-06, 2.2225968e-05],\n",
              "         [9.9992800e-01, 2.4659278e-06, 4.6123117e-07, ..., 2.0622313e-06,\n",
              "          5.6676760e-07, 3.2302360e-06]], dtype=float32)}]"
            ]
          },
          "metadata": {
            "tags": []
          },
          "execution_count": 22
        }
      ]
    },
    {
      "cell_type": "code",
      "metadata": {
        "id": "BJpCk-XkQYZO",
        "colab_type": "code",
        "colab": {}
      },
      "source": [
        "#Take out all modules of the first frame\n",
        "obj_scores = data[0]['obj_scores']\n",
        "pred_boxes = data[0]['pred_boxes']\n",
        "pred_classes = data[0]['pred_classes']\n",
        "pred_rel_inds = data[0]['pred_rel_inds']\n",
        "rel_scores = data[0]['rel_scores']"
      ],
      "execution_count": null,
      "outputs": []
    },
    {
      "cell_type": "code",
      "metadata": {
        "id": "4eP76rOFRh-f",
        "colab_type": "code",
        "colab": {
          "base_uri": "https://localhost:8080/",
          "height": 52
        },
        "outputId": "88cac7a5-265e-4bfd-ee08-871bbd533b57"
      },
      "source": [
        "#Find the first object node with 'man' class, the number should be 78\n",
        "#Check out the number of total possible relationships\n",
        "print(pred_classes[5])\n",
        "print(pred_rel_inds.shape)"
      ],
      "execution_count": null,
      "outputs": [
        {
          "output_type": "stream",
          "text": [
            "78\n",
            "(1506, 2)\n"
          ],
          "name": "stdout"
        }
      ]
    },
    {
      "cell_type": "code",
      "metadata": {
        "id": "TcYhEhRDR3U2",
        "colab_type": "code",
        "colab": {
          "base_uri": "https://localhost:8080/",
          "height": 52
        },
        "outputId": "62b3c4dc-ce7a-4510-ed8f-bd331414ee77"
      },
      "source": [
        "#Find all relationships with object node 'man'\n",
        "#Set a threshold to find meaningful relations; 0.25 is used here\n",
        "import numpy as np\n",
        "man_rel = []\n",
        "for i in range (1506):\n",
        "  if(pred_rel_inds[i][0] == 5):\n",
        "    other_scores = rel_scores[i]\n",
        "    other_scores[0] = 0\n",
        "    if(np.array(other_scores).max() > 0.25):\n",
        "      man_rel.append(pred_rel_inds[i])\n",
        "\n",
        "print(len(man_rel))\n",
        "print(man_rel)"
      ],
      "execution_count": null,
      "outputs": [
        {
          "output_type": "stream",
          "text": [
            "8\n",
            "[array([ 5, 10]), array([5, 4]), array([ 5, 24]), array([ 5, 30]), array([ 5, 60]), array([ 5, 56]), array([ 5, 50]), array([ 5, 40])]\n"
          ],
          "name": "stdout"
        }
      ]
    },
    {
      "cell_type": "code",
      "metadata": {
        "id": "anjAp0E6Sazs",
        "colab_type": "code",
        "colab": {
          "base_uri": "https://localhost:8080/",
          "height": 35
        },
        "outputId": "0ee1c46d-f0d6-412f-eb7a-d2147ec38f78"
      },
      "source": [
        "#Find all relationships with object node 'man'\n",
        "#Find attributes of selected nodes and links\n",
        "#Remenber to run the next block first\n",
        "dict1 = {}\n",
        "\n",
        "for p in range(len(data)):\n",
        "  pred_entry = data[p]\n",
        "  relations = []\n",
        "  man_rel = []\n",
        "\n",
        "  for i in range(len(pred_entry['pred_classes'])):\n",
        "    if(pred_entry['pred_classes'][i] == 78):\n",
        "      first_man = i\n",
        "      break\n",
        "  \n",
        "  for j in range(len(pred_entry['rel_scores'])):\n",
        "    if(pred_entry['pred_rel_inds'][j][0] == first_man):\n",
        "      other_entry = pred_entry['rel_scores'][j]\n",
        "      other_entry[0] = 0\n",
        "      if(np.array(other_entry).max() > 0.25):\n",
        "        node1_index = pred_entry['pred_rel_inds'][j][0]\n",
        "        node2_index = pred_entry['pred_rel_inds'][j][1]\n",
        "        node1 = pred_entry['pred_classes'][node1_index]\n",
        "        node2 = pred_entry['pred_classes'][node2_index]\n",
        "        rel_index = np.argmax(np.array(pred_entry['rel_scores'][j]))\n",
        "        if ((node1,rel_index,node2) not in relations):\n",
        "          relations.append((node1,rel_index,node2))\n",
        "\n",
        "  sentence=\"\"\n",
        "  for i,j,k in relations:\n",
        "    sentence+=jso['idx_to_label'][str(i)]+\" \"+jso['idx_to_predicate'][str(j)]+\" \"+jso['idx_to_label'][str(k)]+\". \"\n",
        "  dict1[p] = sentence\n",
        "\n",
        "print(dict1)"
      ],
      "execution_count": null,
      "outputs": [
        {
          "output_type": "stream",
          "text": [
            "{0: 'man wearing shirt. man has hand. man wearing jacket. man wearing pant. man has hair. man has nose. man wearing hat. '}\n"
          ],
          "name": "stdout"
        }
      ]
    },
    {
      "cell_type": "code",
      "metadata": {
        "id": "5_PgyqFkT_uf",
        "colab_type": "code",
        "colab": {}
      },
      "source": [
        "#Object and Relation Classes\n",
        "jso={\n",
        "\"idx_to_label\": {\n",
        "\"1\": \"airplane\",\n",
        "\"2\": \"animal\",\n",
        "\"3\": \"arm\",\n",
        "\"4\": \"bag\",\n",
        "\"5\": \"banana\",\n",
        "\"6\": \"basket\",\n",
        "\"7\": \"beach\",\n",
        "\"8\": \"bear\",\n",
        "\"9\": \"bed\",\n",
        "\"10\": \"bench\",\n",
        "\"11\": \"bike\",\n",
        "\"12\": \"bird\",\n",
        "\"13\": \"board\",\n",
        "\"14\": \"boat\",\n",
        "\"15\": \"book\",\n",
        "\"16\": \"boot\",\n",
        "\"17\": \"bottle\",\n",
        "\"18\": \"bowl\",\n",
        "\"19\": \"box\",\n",
        "\"20\": \"boy\",\n",
        "\"21\": \"branch\",\n",
        "\"22\": \"building\",\n",
        "\"23\": \"bus\",\n",
        "\"24\": \"cabinet\",\n",
        "\"25\": \"cap\",\n",
        "\"26\": \"car\",\n",
        "\"27\": \"cat\",\n",
        "\"28\": \"chair\",\n",
        "\"29\": \"child\",\n",
        "\"30\": \"clock\",\n",
        "\"31\": \"coat\",\n",
        "\"32\": \"counter\",\n",
        "\"33\": \"cow\",\n",
        "\"34\": \"cup\",\n",
        "\"35\": \"curtain\",\n",
        "\"36\": \"desk\",\n",
        "\"37\": \"dog\",\n",
        "\"38\": \"door\",\n",
        "\"39\": \"drawer\",\n",
        "\"40\": \"ear\",\n",
        "\"41\": \"elephant\",\n",
        "\"42\": \"engine\",\n",
        "\"43\": \"eye\",\n",
        "\"44\": \"face\",\n",
        "\"45\": \"fence\",\n",
        "\"46\": \"finger\",\n",
        "\"47\": \"flag\",\n",
        "\"48\": \"flower\",\n",
        "\"49\": \"food\",\n",
        "\"50\": \"fork\",\n",
        "\"51\": \"fruit\",\n",
        "\"52\": \"giraffe\",\n",
        "\"53\": \"girl\",\n",
        "\"54\": \"glass\",\n",
        "\"55\": \"glove\",\n",
        "\"56\": \"guy\",\n",
        "\"57\": \"hair\",\n",
        "\"58\": \"hand\",\n",
        "\"59\": \"handle\",\n",
        "\"60\": \"hat\",\n",
        "\"61\": \"head\",\n",
        "\"62\": \"helmet\",\n",
        "\"63\": \"hill\",\n",
        "\"64\": \"horse\",\n",
        "\"65\": \"house\",\n",
        "\"66\": \"jacket\",\n",
        "\"67\": \"jean\",\n",
        "\"68\": \"kid\",\n",
        "\"69\": \"kite\",\n",
        "\"70\": \"lady\",\n",
        "\"71\": \"lamp\",\n",
        "\"72\": \"laptop\",\n",
        "\"73\": \"leaf\",\n",
        "\"74\": \"leg\",\n",
        "\"75\": \"letter\",\n",
        "\"76\": \"light\",\n",
        "\"77\": \"logo\",\n",
        "\"78\": \"man\",\n",
        "\"79\": \"men\",\n",
        "\"80\": \"motorcycle\",\n",
        "\"81\": \"mountain\",\n",
        "\"82\": \"mouth\",\n",
        "\"83\": \"neck\",\n",
        "\"84\": \"nose\",\n",
        "\"85\": \"number\",\n",
        "\"86\": \"orange\",\n",
        "\"87\": \"pant\",\n",
        "\"88\": \"paper\",\n",
        "\"89\": \"paw\",\n",
        "\"90\": \"people\",\n",
        "\"91\": \"person\",\n",
        "\"92\": \"phone\",\n",
        "\"93\": \"pillow\",\n",
        "\"94\": \"pizza\",\n",
        "\"95\": \"plane\",\n",
        "\"96\": \"plant\",\n",
        "\"97\": \"plate\",\n",
        "\"98\": \"player\",\n",
        "\"99\": \"pole\",\n",
        "\"100\": \"post\",\n",
        "\"101\": \"pot\",\n",
        "\"102\": \"racket\",\n",
        "\"103\": \"railing\",\n",
        "\"104\": \"rock\",\n",
        "\"105\": \"roof\",\n",
        "\"106\": \"room\",\n",
        "\"107\": \"screen\",\n",
        "\"108\": \"seat\",\n",
        "\"109\": \"sheep\",\n",
        "\"110\": \"shelf\",\n",
        "\"111\": \"shirt\",\n",
        "\"112\": \"shoe\",\n",
        "\"113\": \"short\",\n",
        "\"114\": \"sidewalk\",\n",
        "\"115\": \"sign\",\n",
        "\"116\": \"sink\",\n",
        "\"117\": \"skateboard\",\n",
        "\"118\": \"ski\",\n",
        "\"119\": \"skier\",\n",
        "\"120\": \"sneaker\",\n",
        "\"121\": \"snow\",\n",
        "\"122\": \"sock\",\n",
        "\"123\": \"stand\",\n",
        "\"124\": \"street\",\n",
        "\"125\": \"surfboard\",\n",
        "\"126\": \"table\",\n",
        "\"127\": \"tail\",\n",
        "\"128\": \"tie\",\n",
        "\"129\": \"tile\",\n",
        "\"130\": \"tire\",\n",
        "\"131\": \"toilet\",\n",
        "\"132\": \"towel\",\n",
        "\"133\": \"tower\",\n",
        "\"134\": \"track\",\n",
        "\"135\": \"train\",\n",
        "\"136\": \"tree\",\n",
        "\"137\": \"truck\",\n",
        "\"138\": \"trunk\",\n",
        "\"139\": \"umbrella\",\n",
        "\"140\": \"vase\",\n",
        "\"141\": \"vegetable\",\n",
        "\"142\": \"vehicle\",\n",
        "\"143\": \"wave\",\n",
        "\"144\": \"wheel\",\n",
        "\"145\": \"window\",\n",
        "\"146\": \"windshield\",\n",
        "\"147\": \"wing\",\n",
        "\"148\": \"wire\",\n",
        "\"149\": \"woman\",\n",
        "\"150\": \"zebra\"\n",
        "},\n",
        "\"idx_to_predicate\": {\n",
        "\"1\": \"above\",\n",
        "\"2\": \"across\",\n",
        "\"3\": \"against\",\n",
        "\"4\": \"along\",\n",
        "\"5\": \"and\",\n",
        "\"6\": \"at\",\n",
        "\"7\": \"attached to\",\n",
        "\"8\": \"behind\",\n",
        "\"9\": \"belonging to\",\n",
        "\"10\": \"between\",\n",
        "\"11\": \"carrying\",\n",
        "\"12\": \"covered in\",\n",
        "\"13\": \"covering\",\n",
        "\"14\": \"eating\",\n",
        "\"15\": \"flying in\",\n",
        "\"16\": \"for\",\n",
        "\"17\": \"from\",\n",
        "\"18\": \"growing on\",\n",
        "\"19\": \"hanging from\",\n",
        "\"20\": \"has\",\n",
        "\"21\": \"holding\",\n",
        "\"22\": \"in\",\n",
        "\"23\": \"in front of\",\n",
        "\"24\": \"laying on\",\n",
        "\"25\": \"looking at\",\n",
        "\"26\": \"lying on\",\n",
        "\"27\": \"made of\",\n",
        "\"28\": \"mounted on\",\n",
        "\"29\": \"near\",\n",
        "\"30\": \"of\",\n",
        "\"31\": \"on\",\n",
        "\"32\": \"on back of\",\n",
        "\"33\": \"over\",\n",
        "\"34\": \"painted on\",\n",
        "\"35\": \"parked on\",\n",
        "\"36\": \"part of\",\n",
        "\"37\": \"playing\",\n",
        "\"38\": \"riding\",\n",
        "\"39\": \"says\",\n",
        "\"40\": \"sitting on\",\n",
        "\"41\": \"standing on\",\n",
        "\"42\": \"to\",\n",
        "\"43\": \"under\",\n",
        "\"44\": \"using\",\n",
        "\"45\": \"walking in\",\n",
        "\"46\": \"walking on\",\n",
        "\"47\": \"watching\",\n",
        "\"48\": \"wearing\",\n",
        "\"49\": \"wears\",\n",
        "\"50\": \"with\"\n",
        "}\n",
        "}"
      ],
      "execution_count": null,
      "outputs": []
    },
    {
      "cell_type": "code",
      "metadata": {
        "id": "rg_CAjBtX2Lm",
        "colab_type": "code",
        "colab": {}
      },
      "source": [
        "#Return man-object relations with boudning boxes\n",
        "last_graph = data[6]\n",
        "last_man_rel = []\n",
        "max_man_rel = []\n",
        "\n",
        "for i in range (len(last_graph['pred_classes'])):\n",
        "  if(last_graph['pred_classes'][i] == 78):\n",
        "    first_man = i\n",
        "    break\n",
        "\n",
        "for i in range (len(last_graph['rel_scores'])):\n",
        "  if(last_graph['pred_rel_inds'][i][0] == first_man):\n",
        "    other_scores = last_graph['rel_scores'][i]\n",
        "    other_scores[0] = 0\n",
        "    node_index = last_graph['pred_rel_inds'][i][1]\n",
        "    node = last_graph['pred_classes'][node_index]\n",
        "    rel_index = np.argmax(other_scores)\n",
        "    max_val = np.array(other_scores).max()\n",
        "    box = last_graph['pred_boxes'][node_index]\n",
        "    max_man_rel.append((max_val, node, rel_index, box))\n",
        "\n",
        "max_man_rel.sort(reverse=True)\n",
        "for i in range (10):\n",
        "  class_index = max_man_rel[i][1]\n",
        "  rel_index = max_man_rel[i][2]\n",
        "  jso_1 = jso['idx_to_label'][str(class_index)]\n",
        "  jso_2 = jso['idx_to_predicate'][str(rel_index)]\n",
        "  box = max_man_rel[i][3]\n",
        "  last_man_rel.append((class_index, jso_1, rel_index, jso_2, box))\n",
        "\n",
        "print(last_man_rel)"
      ],
      "execution_count": null,
      "outputs": []
    },
    {
      "cell_type": "code",
      "metadata": {
        "id": "ecsExPQbYNWo",
        "colab_type": "code",
        "colab": {}
      },
      "source": [
        "#Organize the relations\n",
        "man_box = last_graph['pred_boxes'][node_index]\n",
        "inputs = np.append(78, man_box)\n",
        "\n",
        "for i in range (10):\n",
        "  class_in = last_man_rel[i][0]\n",
        "  box_in = last_man_rel[i][4]\n",
        "  new_input = np.append(class_in, box_in)\n",
        "  inputs = np.append(inputs, new_input, axis=0)\n",
        "\n",
        "print(inputs)\n",
        "inputs.resize((11, 5))\n",
        "print(inputs)"
      ],
      "execution_count": null,
      "outputs": []
    }
  ]
}